{
 "metadata": {
  "name": ""
 },
 "nbformat": 3,
 "nbformat_minor": 0,
 "worksheets": [
  {
   "cells": [
    {
     "cell_type": "markdown",
     "metadata": {},
     "source": [
      "## hymagic - A ipython extention for the hy LISP langauge\n",
      "[Hylang](hylang.org), or simply hy, is a LISP language that is built on top of the [Python programming language](python.org).   \n",
      "\n",
      "The `hymagic` ipython extension allows you to execute hylang code interactively in a ipython console, qtconsole, or notebook.\n",
      "\n",
      "### Installation\n",
      "\n",
      "First, make sure that `hymagic.py` is in your python path, the suggested location for ipython extensions is "
     ]
    },
    {
     "cell_type": "code",
     "collapsed": false,
     "input": [
      "from __future__ import print_function\n",
      "import os\n",
      "ip = get_ipython()\n",
      "print(os.path.join(ip.ipython_dir, 'extensions'))"
     ],
     "language": "python",
     "metadata": {},
     "outputs": [
      {
       "output_type": "stream",
       "stream": "stdout",
       "text": [
        "/home/tiverson/.config/ipython/extensions\n"
       ]
      }
     ],
     "prompt_number": 6
    },
    {
     "cell_type": "markdown",
     "metadata": {},
     "source": [
      "### Loading the `hymagic` extension "
     ]
    },
    {
     "cell_type": "code",
     "collapsed": false,
     "input": [
      "%load_ext hymagic"
     ],
     "language": "python",
     "metadata": {},
     "outputs": [],
     "prompt_number": 7
    },
    {
     "cell_type": "markdown",
     "metadata": {},
     "source": [
      "### Executing a hylang cell\n",
      "\n",
      "You can execute a hylang cell using the `%%hylang magic` as shown below."
     ]
    },
    {
     "cell_type": "code",
     "collapsed": false,
     "input": [
      "%%hylang\n",
      "(defn add1 [n]\n",
      "    (+ n 1))\n",
      "\n",
      "(print (add1 5))\n",
      "(add1 11)"
     ],
     "language": "python",
     "metadata": {},
     "outputs": [
      {
       "output_type": "stream",
       "stream": "stdout",
       "text": [
        "6\n"
       ]
      },
      {
       "metadata": {},
       "output_type": "pyout",
       "prompt_number": 8,
       "text": [
        "12L"
       ]
      }
     ],
     "prompt_number": 8
    },
    {
     "cell_type": "markdown",
     "metadata": {},
     "source": [
      "### Python interopt\n",
      "\n",
      "Since hylang code is executed as python AST nodes in the regular ipython kernel, \n",
      "you can freely intersperse hylang code and python code."
     ]
    },
    {
     "cell_type": "code",
     "collapsed": false,
     "input": [
      "#Here we call the add1 function defined above in \n",
      "#regular python code\n",
      "for i in range(4):\n",
      "    print(add1(i))"
     ],
     "language": "python",
     "metadata": {},
     "outputs": [
      {
       "output_type": "stream",
       "stream": "stdout",
       "text": [
        "1\n",
        "2\n",
        "3\n",
        "4\n"
       ]
      }
     ],
     "prompt_number": 9
    },
    {
     "cell_type": "markdown",
     "metadata": {},
     "source": [
      "### Execute a hylang line\n",
      "\n",
      "You can also use the `%hylang` magic to execute one line of code"
     ]
    },
    {
     "cell_type": "code",
     "collapsed": false,
     "input": [
      "a = 5\n",
      "%hylang (def a (add1 a)) \n",
      "a = a + 1\n",
      "print(a)"
     ],
     "language": "python",
     "metadata": {},
     "outputs": [
      {
       "output_type": "stream",
       "stream": "stdout",
       "text": [
        "7\n"
       ]
      }
     ],
     "prompt_number": 11
    },
    {
     "cell_type": "code",
     "collapsed": false,
     "input": [],
     "language": "python",
     "metadata": {},
     "outputs": []
    }
   ],
   "metadata": {}
  }
 ]
}